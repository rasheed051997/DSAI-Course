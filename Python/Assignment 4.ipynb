{
 "cells": [
  {
   "cell_type": "markdown",
   "metadata": {},
   "source": [
    "## Assignment 4"
   ]
  },
  {
   "cell_type": "code",
   "execution_count": 1,
   "metadata": {},
   "outputs": [],
   "source": [
    "# Q1 : create a txt file, enter multiple lines of text. read this file line by line and store\n",
    "# it into a list. Apply exception handling technique"
   ]
  },
  {
   "cell_type": "code",
   "execution_count": 119,
   "metadata": {},
   "outputs": [
    {
     "name": "stdout",
     "output_type": "stream",
     "text": [
      "['India is my country\\n', 'All Indians are\\n', 'My brothers and sisters\\n', 'I love my Country\\n', 'I am proud to be an Indian']\n"
     ]
    }
   ],
   "source": [
    "try:\n",
    "    s=open(\"file001.txt\",'w+')\n",
    "    s.write(\"India is my country\\nAll Indians are\\nMy brothers and sisters\\nI love my Country\\nI am proud to be an Indian\")\n",
    "except:\n",
    "    print(\"Error in above block\")\n",
    "try:\n",
    "    a1=open(\"file001.txt\")\n",
    "    a1.seek(0)\n",
    "    lst1=a1.readlines()\n",
    "    print(lst1)\n",
    "except:\n",
    "    print(\"file not changed\")"
   ]
  },
  {
   "cell_type": "code",
   "execution_count": 120,
   "metadata": {},
   "outputs": [
    {
     "name": "stdout",
     "output_type": "stream",
     "text": [
      "First attempt failed\n",
      "file changed in second attempt\n",
      "Red\n",
      "Green\n",
      "White\n",
      "Black\n",
      "Pink\n",
      "Yellow\n",
      "\n"
     ]
    }
   ],
   "source": [
    "# Q2: Write a Python program to write below list content to a file. Apply exception\n",
    "# handling technique\n",
    "# color = ['Red', 'Green', 'White', 'Black', 'Pink', 'Yellow'] \n",
    "\n",
    "\n",
    "color= ['Red', 'Green', 'White', 'Black', 'Pink', 'Yellow']\n",
    "try:\n",
    "    m=open(\"color.txt\")\n",
    "    for i in color:\n",
    "        m.write(i)\n",
    "    print(\"file changed in first attempt\")\n",
    "except:\n",
    "    print(\"First attempt failed\")\n",
    "    \n",
    "    try:\n",
    "        m=open(\"color.txt\",'w+')\n",
    "        for i in color:\n",
    "            m.write(i+\"\\n\")\n",
    "        print(\"file changed in second attempt\")\n",
    "        m.seek(0)\n",
    "        print(m.read())\n",
    "    except:\n",
    "        print(\"Second attempt also failed\")"
   ]
  },
  {
   "cell_type": "code",
   "execution_count": 23,
   "metadata": {},
   "outputs": [
    {
     "name": "stdout",
     "output_type": "stream",
     "text": [
      "['what is your name?\\n', 'How old are you?\\n', 'Where are you from?']\n",
      "['what is your name?', 'How old are you?', 'Where are you from?']\n"
     ]
    }
   ],
   "source": [
    "# Q3 : create a txt file, enter multiple lines of text. remove newline characters from\n",
    "# created file and print as a list. Apply exception handling techniques wherever\n",
    "# possible\n",
    "\n",
    "try:\n",
    "    s=open(\"fienew.txt\",'w+')\n",
    "    s.write(\"what is your name?\\nHow old are you?\\nWhere are you from?\")\n",
    "except:\n",
    "    print(\"Error in above block\")\n",
    "try:\n",
    "    s.seek(0)\n",
    "    lst1=s.readlines()\n",
    "    lst2=[]\n",
    "    for i in lst1:\n",
    "        lst2.append(i.replace(\"\\n\",\"\"))\n",
    "    print(lst1)\n",
    "    print(lst2)\n",
    "except:\n",
    "    print(\"file not changed\")"
   ]
  },
  {
   "cell_type": "code",
   "execution_count": 21,
   "metadata": {},
   "outputs": [
    {
     "name": "stdout",
     "output_type": "stream",
     "text": [
      "['A is first\\n', 'B is second\\n', 'C is third\\n', 'D is forth']\n",
      "A is first\n",
      "B is second\n",
      "C is third\n",
      "D is forth\n"
     ]
    }
   ],
   "source": [
    "# Q4 : create a testfile1.txt file, enter multiple lines of text . Now copy contents of\n",
    "# testfile1.txt to new file testfile22.txt. Apply exception handling techniques\n",
    "# wherever possible\n",
    "\n",
    "try:\n",
    "    e=open(\"textfile1.txt\",'w+')\n",
    "    e.write(\"A is first\\nB is second\\nC is third\\nD is forth\")\n",
    "except:\n",
    "    print(\"Error in creating file\")\n",
    "try:\n",
    "    e.seek(0)\n",
    "    ls=e.readlines()\n",
    "    print(ls)\n",
    "    f=open(\"textfile22.txt\",'w+')\n",
    "    for i in ls:\n",
    "        f.write(i)\n",
    "except:\n",
    "    print(\"file not changed\")\n",
    "f.seek(0)\n",
    "print(f.read())"
   ]
  }
 ],
 "metadata": {
  "kernelspec": {
   "display_name": "Python 3",
   "language": "python",
   "name": "python3"
  },
  "language_info": {
   "codemirror_mode": {
    "name": "ipython",
    "version": 3
   },
   "file_extension": ".py",
   "mimetype": "text/x-python",
   "name": "python",
   "nbconvert_exporter": "python",
   "pygments_lexer": "ipython3",
   "version": "3.7.3"
  }
 },
 "nbformat": 4,
 "nbformat_minor": 2
}
