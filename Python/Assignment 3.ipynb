{
 "cells": [
  {
   "cell_type": "code",
   "execution_count": 76,
   "metadata": {},
   "outputs": [
    {
     "name": "stdout",
     "output_type": "stream",
     "text": [
      "Sum= 14  Difference= 6\n"
     ]
    }
   ],
   "source": [
    "# Q1. Write a function calculation() such that it can accept two variables as arguments and calculate the addition and \n",
    "#     subtraction of it. And also it must return both addition and subtraction in a single return call\n",
    "\n",
    "def calculation(a,b):\n",
    "    c=print(\"Sum=\",a+b,\" Difference=\",a-b)\n",
    "    return c\n",
    "calculation(10,4)"
   ]
  },
  {
   "cell_type": "code",
   "execution_count": 78,
   "metadata": {},
   "outputs": [
    {
     "name": "stdout",
     "output_type": "stream",
     "text": [
      "Employee: Arun - Salary: 12000\n",
      "Employee: Raj - Salary: 9000\n",
      "Employee: Jos - Salary: 8000\n"
     ]
    }
   ],
   "source": [
    "# Q2. Create a function showEmployee() in such a way that it should accept employee name, and it’s salary and display both,\n",
    "#and if the salary is missing in function call it should show it as 9000\n",
    "\n",
    "\n",
    "def showEmployee(emp,sal=9000):\n",
    "    print(\"Employee:\",emp,\"- Salary:\",sal)\n",
    "showEmployee(\"Arun\",12000)\n",
    "showEmployee(\"Raj\")\n",
    "showEmployee(\"Jos\",8000)"
   ]
  },
  {
   "cell_type": "code",
   "execution_count": 79,
   "metadata": {},
   "outputs": [
    {
     "name": "stdout",
     "output_type": "stream",
     "text": [
      "{'a': 1, 'e': 2, 'm': 1, 'o': 1, 's': 1, 'w': 1}\n"
     ]
    }
   ],
   "source": [
    "# Q3. Write a function called multipleLetterCount. This function takes in one parameter (a string) and returns a dictionary \n",
    "#     with the keys being the letters and the value being the count of the letter.\n",
    "#     Example output:\n",
    "#     multipleLetterCount('awesome')\n",
    "#     {'a': 1, 'e': 2, 'm': 1, 'o': 1, 's': 1, 'w': 1}\n",
    "\n",
    "def multipleLetterCount(str1):\n",
    "    dict1={}\n",
    "    str1=sorted(str1)\n",
    "    for i in str1:\n",
    "        if i in dict1:\n",
    "            dict1[i]=dict1[i]+1\n",
    "        else:\n",
    "            dict1[i]=1\n",
    "    print(dict1)\n",
    "multipleLetterCount('awesome')"
   ]
  }
 ],
 "metadata": {
  "kernelspec": {
   "display_name": "Python 3",
   "language": "python",
   "name": "python3"
  },
  "language_info": {
   "codemirror_mode": {
    "name": "ipython",
    "version": 3
   },
   "file_extension": ".py",
   "mimetype": "text/x-python",
   "name": "python",
   "nbconvert_exporter": "python",
   "pygments_lexer": "ipython3",
   "version": "3.7.3"
  }
 },
 "nbformat": 4,
 "nbformat_minor": 4
}
