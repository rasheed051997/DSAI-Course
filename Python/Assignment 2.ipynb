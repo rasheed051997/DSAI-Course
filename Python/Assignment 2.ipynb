{
 "cells": [
  {
   "cell_type": "code",
   "execution_count": 17,
   "metadata": {},
   "outputs": [
    {
     "name": "stdout",
     "output_type": "stream",
     "text": [
      "tuple1 = (11, [222, 33], 44, 55)\n"
     ]
    }
   ],
   "source": [
    "# Q1. Modify the first item (22) of a list inside a following tuple to 222\n",
    "# tuple1 = (11, [22, 33], 44, 55)\n",
    "# Expected output: tuple1 = (11, [222, 33], 44, 55)\n",
    "\n",
    "\n",
    "tuple1 = (11, [22, 33], 44, 55)\n",
    "tuple1[1][0]=222\n",
    "print(\"tuple1 =\",tuple1)"
   ]
  },
  {
   "cell_type": "code",
   "execution_count": 4,
   "metadata": {},
   "outputs": [
    {
     "name": "stdout",
     "output_type": "stream",
     "text": [
      "Number of item 50 in tuple1 = 2\n"
     ]
    }
   ],
   "source": [
    "# Q2. Count the number of occurrences of item 50 from a tuple\n",
    "# tuple1 = (50, 10, 60, 70, 50)\n",
    "\n",
    "\n",
    "tuple1 = (50, 10, 60, 70, 50)\n",
    "c=0\n",
    "for i in tuple1:\n",
    "    if i==50:\n",
    "        c=c+1   \n",
    "print(\"Number of item 50 in tuple1 =\",c)"
   ]
  },
  {
   "cell_type": "code",
   "execution_count": 8,
   "metadata": {},
   "outputs": [
    {
     "name": "stdout",
     "output_type": "stream",
     "text": [
      "Enter limit : 5\n",
      "Enter datas into list\n",
      "34\n",
      "mca\n",
      "34\n",
      "mes\n",
      "45\n",
      "list = ['34', 'mca', '34', 'mes', '45']\n",
      "tuple = ('34', 'mca', '34', 'mes', '45')\n"
     ]
    }
   ],
   "source": [
    "# Q3. Write a Python program to convert a list to a tuple\n",
    "\n",
    "\n",
    "n=int(input(\"Enter limit : \"))\n",
    "print(\"Enter datas into list\")\n",
    "lst1=[]\n",
    "for i in range(n):\n",
    "    lst1.append(input())\n",
    "print(\"list =\",lst1)\n",
    "tuple1=tuple(lst1)\n",
    "print(\"tuple =\", tuple1)"
   ]
  },
  {
   "cell_type": "code",
   "execution_count": 10,
   "metadata": {},
   "outputs": [
    {
     "name": "stdout",
     "output_type": "stream",
     "text": [
      "set3 {70, 40, 10, 50, 20, 60, 30}\n"
     ]
    }
   ],
   "source": [
    "# Q4. Returns a new set with all items from both sets by removing duplicates\n",
    "# set1 = {10, 20, 30, 40, 50}\n",
    "# set2 = {30, 40, 50, 60, 70}\n",
    "\n",
    "\n",
    "set1 = {10, 20, 30, 40, 50}\n",
    "set2 = {30, 40, 50, 60, 70}\n",
    "set3=set1\n",
    "set3.update(set2)\n",
    "print(\"set3\",set3)"
   ]
  },
  {
   "cell_type": "code",
   "execution_count": 18,
   "metadata": {},
   "outputs": [
    {
     "name": "stdout",
     "output_type": "stream",
     "text": [
      "dic3= {'Ten': 10, 'Twenty': 20, 'Thirty': 30, 'Fourty': 40, 'Fifty': 50}\n"
     ]
    }
   ],
   "source": [
    "# Q5. Merge following two Python dictionaries into one\n",
    "# dict1 = {'Ten': 10, 'Twenty': 20, 'Thirty': 30}\n",
    "# dict2 = {'Thirty': 30, 'Fourty': 40, 'Fifty': 50}\n",
    "# Expected output: {'Ten': 10, 'Twenty': 20, 'Thirty': 30, 'Fourty': 40, 'Fifty': 50}\n",
    "\n",
    "\n",
    "\n",
    "dict1 = {'Ten': 10, 'Twenty': 20, 'Thirty': 30}\n",
    "dict2 = {'Thirty': 30, 'Fourty': 40, 'Fifty': 50}\n",
    "dict3=dict1\n",
    "dict3.update(dict2)\n",
    "print(\"dic3=\",dict3)"
   ]
  },
  {
   "cell_type": "code",
   "execution_count": 94,
   "metadata": {},
   "outputs": [
    {
     "data": {
      "text/plain": [
       "{'emp1': {'name': 'Jhon', 'salary': 7500},\n",
       " 'emp2': {'name': 'Emma', 'salary': 8000},\n",
       " 'emp3': {'name': 'Brad', 'salary': 8500}}"
      ]
     },
     "execution_count": 94,
     "metadata": {},
     "output_type": "execute_result"
    }
   ],
   "source": [
    "# Q6. Given a Python dictionary, Change Brad’s salary to 8500\n",
    "\n",
    "#  sampleDict = {\n",
    "# 'emp1': {'name': 'Jhon', 'salary': 7500},\n",
    "# 'emp2': {'name': 'Emma', 'salary': 8000},\n",
    "# 'emp3': {'name': 'Brad', 'salary': 6500}}\n",
    "\n",
    "#  Expected output: \n",
    "#  sampleDict = {\n",
    "# 'emp1': {'name': 'Jhon', 'salary': 7500},\n",
    "# 'emp2': {'name': 'Emma', 'salary': 8000},\n",
    "# 'emp3': {'name': 'Brad', 'salary': 8500}} \n",
    "\n",
    "\n",
    "\n",
    "sampleDict = {\n",
    "'emp1': {'name': 'Jhon', 'salary': 7500},\n",
    "'emp2': {'name': 'Emma', 'salary': 8000},\n",
    "'emp3': {'name': 'Brad', 'salary': 6500}\n",
    "}\n",
    "\n",
    "sampleDict['emp3']['salary']=8500\n",
    "sampleDict"
   ]
  },
  {
   "cell_type": "code",
   "execution_count": 16,
   "metadata": {},
   "outputs": [
    {
     "data": {
      "text/plain": [
       "{'name': 'Kelly', 'age': 25, 'salary': 8000, 'location': 'New york'}"
      ]
     },
     "execution_count": 16,
     "metadata": {},
     "output_type": "execute_result"
    }
   ],
   "source": [
    "# Q7. Rename key city to location in the following dictionary\n",
    "\n",
    "# sampleDict = {\n",
    "# \"name\": \"Kelly\",\n",
    "# \"age\":25,\n",
    "# \"salary\": 8000,\n",
    "# \"city\": \"New york\"\n",
    "# }\n",
    "\n",
    "# Expected output:\n",
    "# {\n",
    "# \"name\": \"Kelly\",\n",
    "# \"age\":25,\n",
    "# \"salary\": 8000,\n",
    "# \"location\": \"New york\"\n",
    "# }\n",
    "\n",
    "\n",
    "\n",
    "sampleDict = {\n",
    "\"name\": \"Kelly\",\n",
    "\"age\":25,\n",
    "\"salary\": 8000,\n",
    "\"city\": \"New york\"\n",
    "}\n",
    "\n",
    "    \n",
    "sampleDict['location']=sampleDict.pop('city')\n",
    "sampleDict"
   ]
  }
 ],
 "metadata": {
  "kernelspec": {
   "display_name": "Python 3",
   "language": "python",
   "name": "python3"
  },
  "language_info": {
   "codemirror_mode": {
    "name": "ipython",
    "version": 3
   },
   "file_extension": ".py",
   "mimetype": "text/x-python",
   "name": "python",
   "nbconvert_exporter": "python",
   "pygments_lexer": "ipython3",
   "version": "3.7.3"
  }
 },
 "nbformat": 4,
 "nbformat_minor": 4
}
