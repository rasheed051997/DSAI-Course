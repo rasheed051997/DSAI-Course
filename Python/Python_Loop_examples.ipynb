{
  "nbformat": 4,
  "nbformat_minor": 0,
  "metadata": {
    "colab": {
      "name": "Python- Loop examples",
      "provenance": [],
      "collapsed_sections": []
    },
    "kernelspec": {
      "display_name": "Python 3",
      "name": "python3"
    }
  },
  "cells": [
    {
      "cell_type": "code",
      "metadata": {
        "id": "R4Ew3Ia0u1dz",
        "colab_type": "code",
        "colab": {
          "base_uri": "https://localhost:8080/",
          "height": 239
        },
        "outputId": "721410ee-59b2-45e0-ab7d-077495ab2354"
      },
      "source": [
        "#multiplication table \n",
        "#(while loop)\n",
        "\n",
        "print(\"Multiplication Table\\n\")\n",
        "c=1\n",
        "num=int(input(\"Enter a no. \"))\n",
        "while c<=10 :\n",
        "  val=num*c\n",
        "  print(val)\n",
        "  c=c+1"
      ],
      "execution_count": null,
      "outputs": [
        {
          "output_type": "stream",
          "text": [
            "Multiplication Table\n",
            "\n",
            "Enter a no. 3\n",
            "3\n",
            "6\n",
            "9\n",
            "12\n",
            "15\n",
            "18\n",
            "21\n",
            "24\n",
            "27\n",
            "30\n"
          ],
          "name": "stdout"
        }
      ]
    },
    {
      "cell_type": "code",
      "metadata": {
        "id": "Zo1fp8Rx2Ka1",
        "colab_type": "code",
        "colab": {
          "base_uri": "https://localhost:8080/",
          "height": 239
        },
        "outputId": "59db5cd4-897d-4563-b2ce-3a50dae90964"
      },
      "source": [
        "#(for loop)\n",
        "\n",
        "print(\"Multiplication Table\\n\")\n",
        "num=int(input(\"Enter a no. \"))\n",
        "for i in range(1,11):\n",
        "  val=num*i\n",
        "  print(val)"
      ],
      "execution_count": null,
      "outputs": [
        {
          "output_type": "stream",
          "text": [
            "Multiplication Table\n",
            "\n",
            "Enter a no. 3\n",
            "3\n",
            "6\n",
            "9\n",
            "12\n",
            "15\n",
            "18\n",
            "21\n",
            "24\n",
            "27\n",
            "30\n"
          ],
          "name": "stdout"
        }
      ]
    },
    {
      "cell_type": "code",
      "metadata": {
        "id": "BIMaVW87xaEz",
        "colab_type": "code",
        "colab": {
          "base_uri": "https://localhost:8080/",
          "height": 85
        },
        "outputId": "e7f058cc-8c9b-4507-be07-ac70096d7431"
      },
      "source": [
        "#print numbers from list - divisible by 5\n",
        " \n",
        "l=[1,5,22,15,2,9,10,33,40]\n",
        "for i in l:\n",
        "  if i%5==0:\n",
        "     print(i)"
      ],
      "execution_count": null,
      "outputs": [
        {
          "output_type": "stream",
          "text": [
            "5\n",
            "15\n",
            "10\n",
            "40\n"
          ],
          "name": "stdout"
        }
      ]
    },
    {
      "cell_type": "code",
      "metadata": {
        "id": "94RsvxB3yuKd",
        "colab_type": "code",
        "colab": {
          "base_uri": "https://localhost:8080/",
          "height": 171
        },
        "outputId": "036f8ad0-713e-4c67-e242-f47e9739ee62"
      },
      "source": [
        "#print reverse of list by using loops\n",
        " \n",
        "l=[1,5,22,15,2,9,10,33,40]\n",
        "k=len(l)\n",
        "for i in range(k-1,-1,-1):\n",
        "  print(l[i])"
      ],
      "execution_count": null,
      "outputs": [
        {
          "output_type": "stream",
          "text": [
            "40\n",
            "33\n",
            "10\n",
            "9\n",
            "2\n",
            "15\n",
            "22\n",
            "5\n",
            "1\n"
          ],
          "name": "stdout"
        }
      ]
    }
  ]
}