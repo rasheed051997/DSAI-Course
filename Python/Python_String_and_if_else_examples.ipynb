{
  "nbformat": 4,
  "nbformat_minor": 0,
  "metadata": {
    "colab": {
      "name": "Python-String and if else examples",
      "provenance": []
    },
    "kernelspec": {
      "name": "python3",
      "display_name": "Python 3"
    }
  },
  "cells": [
    {
      "cell_type": "code",
      "metadata": {
        "id": "0vqBcOOKqSD6",
        "colab_type": "code",
        "colab": {
          "base_uri": "https://localhost:8080/",
          "height": 68
        },
        "outputId": "aa92ec42-27b5-4fc6-c66c-3a86a9a8357a"
      },
      "source": [
        "#find area of a circle\n",
        " \n",
        "print(\"Area of Circle\")\n",
        "r=float(input(\"Enter a radius \"))\n",
        "area=3.14*r*r\n",
        "print(\"Area=\",area)"
      ],
      "execution_count": null,
      "outputs": [
        {
          "output_type": "stream",
          "text": [
            "Area of Circle\n",
            "Enter a radius 2\n",
            "Area= 12.56\n"
          ],
          "name": "stdout"
        }
      ]
    },
    {
      "cell_type": "code",
      "metadata": {
        "id": "PBAO8Rlfr732",
        "colab_type": "code",
        "colab": {
          "base_uri": "https://localhost:8080/",
          "height": 52
        },
        "outputId": "25ef8b3d-a2fe-4653-b561-e6e2493b26ad"
      },
      "source": [
        "#get a string as input and print its reverse\n",
        " \n",
        "a=input(\"Enter a string \")\n",
        "a[::-1]"
      ],
      "execution_count": null,
      "outputs": [
        {
          "output_type": "stream",
          "text": [
            "Enter a string siric\n"
          ],
          "name": "stdout"
        },
        {
          "output_type": "execute_result",
          "data": {
            "application/vnd.google.colaboratory.intrinsic+json": {
              "type": "string"
            },
            "text/plain": [
              "'ciris'"
            ]
          },
          "metadata": {
            "tags": []
          },
          "execution_count": 24
        }
      ]
    },
    {
      "cell_type": "code",
      "metadata": {
        "id": "JRDeq3L5s2ZM",
        "colab_type": "code",
        "colab": {
          "base_uri": "https://localhost:8080/",
          "height": 85
        },
        "outputId": "e80efcde-9649-4ae8-b70b-ef2fe05e0870"
      },
      "source": [
        "#input 3 numbers and find its average\n",
        " \n",
        "print(\"Enter 3 numbers \\n\")\n",
        "b,c,d=map(float, input().split())\n",
        "avg=(b+c+d)/3\n",
        "print(\"Average=\",avg)"
      ],
      "execution_count": null,
      "outputs": [
        {
          "output_type": "stream",
          "text": [
            "Enter 3 numbers \n",
            "\n",
            "4  5   6\n",
            "Average= 5.0\n"
          ],
          "name": "stdout"
        }
      ]
    },
    {
      "cell_type": "code",
      "metadata": {
        "id": "St5cxDNcvEK0",
        "colab_type": "code",
        "colab": {
          "base_uri": "https://localhost:8080/",
          "height": 68
        },
        "outputId": "b4f5cfc7-46f1-4077-d8cd-da03dc8e4cde"
      },
      "source": [
        "#input 3 numbers and find big among them\n",
        " \n",
        "print(\"Enter 3 numbers \")\n",
        "q,w,e=map(int, input().split())\n",
        " \n",
        "if q>w :\n",
        " if q>e :\n",
        "  print(q,\"is big\")\n",
        " else :\n",
        "  print(e,\"is big\")\n",
        " \n",
        "elif q<w :\n",
        " if w>e :\n",
        "  print(w,\"is big\")\n",
        " else :\n",
        "  print(e,\"is big\")"
      ],
      "execution_count": null,
      "outputs": [
        {
          "output_type": "stream",
          "text": [
            "Enter 3 numbers \n",
            "7 6 5\n",
            "7 is big\n"
          ],
          "name": "stdout"
        }
      ]
    },
    {
      "cell_type": "code",
      "metadata": {
        "id": "Kgs4xF4lXKMU",
        "colab_type": "code",
        "colab": {
          "base_uri": "https://localhost:8080/",
          "height": 68
        },
        "outputId": "2584187f-83c5-4f1d-8eb4-788f9e419832"
      },
      "source": [
        "#print characters at odd and even indexes of a string\n",
        " \n",
        "s=input(\"Enter a string\")\n",
        " \n",
        "odd=s[::2]\n",
        "even=s[1::2]\n",
        " \n",
        "print(\"Odd indexes \",odd)\n",
        "print(\"Even indexes \",even)"
      ],
      "execution_count": null,
      "outputs": [
        {
          "output_type": "stream",
          "text": [
            "Enter a stringpython\n",
            "Odd indexes  pto\n",
            "Even indexes  yhn\n"
          ],
          "name": "stdout"
        }
      ]
    }
  ]
}